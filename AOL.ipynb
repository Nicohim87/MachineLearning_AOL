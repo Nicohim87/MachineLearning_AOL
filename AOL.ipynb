{
 "cells": [
  {
   "cell_type": "code",
   "execution_count": 33,
   "metadata": {},
   "outputs": [],
   "source": [
    "import pandas as pd\n",
    "import numpy as np"
   ]
  },
  {
   "cell_type": "code",
   "execution_count": 34,
   "metadata": {},
   "outputs": [
    {
     "data": {
      "text/html": [
       "<div>\n",
       "<style scoped>\n",
       "    .dataframe tbody tr th:only-of-type {\n",
       "        vertical-align: middle;\n",
       "    }\n",
       "\n",
       "    .dataframe tbody tr th {\n",
       "        vertical-align: top;\n",
       "    }\n",
       "\n",
       "    .dataframe thead th {\n",
       "        text-align: right;\n",
       "    }\n",
       "</style>\n",
       "<table border=\"1\" class=\"dataframe\">\n",
       "  <thead>\n",
       "    <tr style=\"text-align: right;\">\n",
       "      <th></th>\n",
       "      <th>title</th>\n",
       "      <th>body</th>\n",
       "      <th>Body_Title</th>\n",
       "      <th>label</th>\n",
       "    </tr>\n",
       "  </thead>\n",
       "  <tbody>\n",
       "    <tr>\n",
       "      <th>0</th>\n",
       "      <td>Envy to other is swallowing me</td>\n",
       "      <td>Im from developingcountry, Indonesia , and for...</td>\n",
       "      <td>Envy to other is swallowing me Im from develop...</td>\n",
       "      <td>1</td>\n",
       "    </tr>\n",
       "    <tr>\n",
       "      <th>1</th>\n",
       "      <td>Nothin outta the ordinary. Paradise. Job stres...</td>\n",
       "      <td>Um hello ....well many can relate im sure. Aft...</td>\n",
       "      <td>Nothin outta the ordinary. Paradise. Job stres...</td>\n",
       "      <td>1</td>\n",
       "    </tr>\n",
       "    <tr>\n",
       "      <th>2</th>\n",
       "      <td>Almost 49 and the chasm of emptiness has never...</td>\n",
       "      <td>I’ve been diagnosed severe bi polar where you ...</td>\n",
       "      <td>Almost 49 and the chasm of emptiness has never...</td>\n",
       "      <td>1</td>\n",
       "    </tr>\n",
       "    <tr>\n",
       "      <th>3</th>\n",
       "      <td>I’m happy again</td>\n",
       "      <td>After my closest friend left me in April, I ha...</td>\n",
       "      <td>I’m happy again After my closest friend left m...</td>\n",
       "      <td>0</td>\n",
       "    </tr>\n",
       "    <tr>\n",
       "      <th>4</th>\n",
       "      <td>Is it possible to recover from such a traumati...</td>\n",
       "      <td>I am only 15, and yet I feel my life is alread...</td>\n",
       "      <td>Is it possible to recover from such a traumati...</td>\n",
       "      <td>1</td>\n",
       "    </tr>\n",
       "  </tbody>\n",
       "</table>\n",
       "</div>"
      ],
      "text/plain": [
       "                                               title  \\\n",
       "0                     Envy to other is swallowing me   \n",
       "1  Nothin outta the ordinary. Paradise. Job stres...   \n",
       "2  Almost 49 and the chasm of emptiness has never...   \n",
       "3                                    I’m happy again   \n",
       "4  Is it possible to recover from such a traumati...   \n",
       "\n",
       "                                                body  \\\n",
       "0  Im from developingcountry, Indonesia , and for...   \n",
       "1  Um hello ....well many can relate im sure. Aft...   \n",
       "2  I’ve been diagnosed severe bi polar where you ...   \n",
       "3  After my closest friend left me in April, I ha...   \n",
       "4  I am only 15, and yet I feel my life is alread...   \n",
       "\n",
       "                                          Body_Title  label  \n",
       "0  Envy to other is swallowing me Im from develop...      1  \n",
       "1  Nothin outta the ordinary. Paradise. Job stres...      1  \n",
       "2  Almost 49 and the chasm of emptiness has never...      1  \n",
       "3  I’m happy again After my closest friend left m...      0  \n",
       "4  Is it possible to recover from such a traumati...      1  "
      ]
     },
     "execution_count": 34,
     "metadata": {},
     "output_type": "execute_result"
    }
   ],
   "source": [
    "reddit = pd.read_csv(\"Reddit_Combi.csv\", sep=';')\n",
    "reddit.drop(['Unnamed: 4'], axis=1, inplace=True)\n",
    "reddit.head()"
   ]
  },
  {
   "cell_type": "code",
   "execution_count": 35,
   "metadata": {},
   "outputs": [
    {
     "name": "stdout",
     "output_type": "stream",
     "text": [
      "(3123, 4)\n"
     ]
    },
    {
     "data": {
      "text/plain": [
       "title          0\n",
       "body          10\n",
       "Body_Title     0\n",
       "label          0\n",
       "dtype: int64"
      ]
     },
     "execution_count": 35,
     "metadata": {},
     "output_type": "execute_result"
    }
   ],
   "source": [
    "print(reddit.shape)\n",
    "reddit.isnull().sum()"
   ]
  },
  {
   "cell_type": "code",
   "execution_count": 36,
   "metadata": {},
   "outputs": [
    {
     "data": {
      "text/html": [
       "<div>\n",
       "<style scoped>\n",
       "    .dataframe tbody tr th:only-of-type {\n",
       "        vertical-align: middle;\n",
       "    }\n",
       "\n",
       "    .dataframe tbody tr th {\n",
       "        vertical-align: top;\n",
       "    }\n",
       "\n",
       "    .dataframe thead th {\n",
       "        text-align: right;\n",
       "    }\n",
       "</style>\n",
       "<table border=\"1\" class=\"dataframe\">\n",
       "  <thead>\n",
       "    <tr style=\"text-align: right;\">\n",
       "      <th></th>\n",
       "      <th>text</th>\n",
       "      <th>label</th>\n",
       "    </tr>\n",
       "  </thead>\n",
       "  <tbody>\n",
       "    <tr>\n",
       "      <th>0</th>\n",
       "      <td>speak-no-evil monkey Can I Be Honest With You...</td>\n",
       "      <td>1</td>\n",
       "    </tr>\n",
       "    <tr>\n",
       "      <th>1</th>\n",
       "      <td>Frau Goebbels early signs of psychosis psychot...</td>\n",
       "      <td>1</td>\n",
       "    </tr>\n",
       "    <tr>\n",
       "      <th>2</th>\n",
       "      <td>A lot of work and unfulfilled tasks plunge you...</td>\n",
       "      <td>1</td>\n",
       "    </tr>\n",
       "    <tr>\n",
       "      <th>3</th>\n",
       "      <td>Private health insurance delivers value for yo...</td>\n",
       "      <td>1</td>\n",
       "    </tr>\n",
       "    <tr>\n",
       "      <th>4</th>\n",
       "      <td>XpertOnline offers you the convenience of view...</td>\n",
       "      <td>1</td>\n",
       "    </tr>\n",
       "  </tbody>\n",
       "</table>\n",
       "</div>"
      ],
      "text/plain": [
       "                                                text  label\n",
       "0   speak-no-evil monkey Can I Be Honest With You...      1\n",
       "1  Frau Goebbels early signs of psychosis psychot...      1\n",
       "2  A lot of work and unfulfilled tasks plunge you...      1\n",
       "3  Private health insurance delivers value for yo...      1\n",
       "4  XpertOnline offers you the convenience of view...      1"
      ]
     },
     "execution_count": 36,
     "metadata": {},
     "output_type": "execute_result"
    }
   ],
   "source": [
    "twitter = pd.read_csv(\"Twitter_ Non-Advert-Tabelle 1.csv\", sep=';')\n",
    "twitter.drop(['Unnamed: 2', 'Unnamed: 3', 'Unnamed: 4'], axis=1, inplace=True)\n",
    "twitter.head()"
   ]
  },
  {
   "cell_type": "code",
   "execution_count": 37,
   "metadata": {},
   "outputs": [
    {
     "name": "stdout",
     "output_type": "stream",
     "text": [
      "(2051, 2)\n"
     ]
    },
    {
     "data": {
      "text/plain": [
       "text     0\n",
       "label    0\n",
       "dtype: int64"
      ]
     },
     "execution_count": 37,
     "metadata": {},
     "output_type": "execute_result"
    }
   ],
   "source": [
    "print(twitter.shape)\n",
    "twitter.isnull().sum()"
   ]
  },
  {
   "cell_type": "code",
   "execution_count": 38,
   "metadata": {},
   "outputs": [
    {
     "data": {
      "text/html": [
       "<div>\n",
       "<style scoped>\n",
       "    .dataframe tbody tr th:only-of-type {\n",
       "        vertical-align: middle;\n",
       "    }\n",
       "\n",
       "    .dataframe tbody tr th {\n",
       "        vertical-align: top;\n",
       "    }\n",
       "\n",
       "    .dataframe thead th {\n",
       "        text-align: right;\n",
       "    }\n",
       "</style>\n",
       "<table border=\"1\" class=\"dataframe\">\n",
       "  <thead>\n",
       "    <tr style=\"text-align: right;\">\n",
       "      <th></th>\n",
       "      <th>text</th>\n",
       "      <th>label</th>\n",
       "    </tr>\n",
       "  </thead>\n",
       "  <tbody>\n",
       "    <tr>\n",
       "      <th>0</th>\n",
       "      <td>Envy to other is swallowing me Im from develop...</td>\n",
       "      <td>1</td>\n",
       "    </tr>\n",
       "    <tr>\n",
       "      <th>1</th>\n",
       "      <td>Nothin outta the ordinary. Paradise. Job stres...</td>\n",
       "      <td>1</td>\n",
       "    </tr>\n",
       "    <tr>\n",
       "      <th>2</th>\n",
       "      <td>Almost 49 and the chasm of emptiness has never...</td>\n",
       "      <td>1</td>\n",
       "    </tr>\n",
       "    <tr>\n",
       "      <th>3</th>\n",
       "      <td>I’m happy again After my closest friend left m...</td>\n",
       "      <td>0</td>\n",
       "    </tr>\n",
       "    <tr>\n",
       "      <th>4</th>\n",
       "      <td>Is it possible to recover from such a traumati...</td>\n",
       "      <td>1</td>\n",
       "    </tr>\n",
       "  </tbody>\n",
       "</table>\n",
       "</div>"
      ],
      "text/plain": [
       "                                                text  label\n",
       "0  Envy to other is swallowing me Im from develop...      1\n",
       "1  Nothin outta the ordinary. Paradise. Job stres...      1\n",
       "2  Almost 49 and the chasm of emptiness has never...      1\n",
       "3  I’m happy again After my closest friend left m...      0\n",
       "4  Is it possible to recover from such a traumati...      1"
      ]
     },
     "execution_count": 38,
     "metadata": {},
     "output_type": "execute_result"
    }
   ],
   "source": [
    "df = pd.DataFrame({\n",
    "    'text': np.append(reddit['Body_Title'], twitter['text']),\n",
    "    'label': np.append(reddit['label'], twitter['label'])\n",
    "})\n",
    "df.head()"
   ]
  },
  {
   "cell_type": "code",
   "execution_count": 39,
   "metadata": {},
   "outputs": [
    {
     "name": "stdout",
     "output_type": "stream",
     "text": [
      "(5174, 2)\n"
     ]
    },
    {
     "data": {
      "text/plain": [
       "text     0\n",
       "label    0\n",
       "dtype: int64"
      ]
     },
     "execution_count": 39,
     "metadata": {},
     "output_type": "execute_result"
    }
   ],
   "source": [
    "print(df.shape)\n",
    "df.isnull().sum()"
   ]
  },
  {
   "cell_type": "code",
   "execution_count": 40,
   "metadata": {},
   "outputs": [
    {
     "data": {
      "text/plain": [
       "79"
      ]
     },
     "execution_count": 40,
     "metadata": {},
     "output_type": "execute_result"
    }
   ],
   "source": [
    "df.duplicated().sum()"
   ]
  },
  {
   "cell_type": "code",
   "execution_count": 41,
   "metadata": {},
   "outputs": [
    {
     "data": {
      "text/plain": [
       "(5095, 2)"
      ]
     },
     "execution_count": 41,
     "metadata": {},
     "output_type": "execute_result"
    }
   ],
   "source": [
    "df.drop_duplicates(keep=\"first\", inplace=True)\n",
    "df.shape"
   ]
  },
  {
   "cell_type": "markdown",
   "metadata": {},
   "source": [
    "# Preprocessing and Sentiment Analysis"
   ]
  },
  {
   "cell_type": "code",
   "execution_count": 42,
   "metadata": {},
   "outputs": [],
   "source": [
    "from nltk.stem.porter import PorterStemmer\n",
    "from nltk.corpus import stopwords\n",
    "import nltk\n",
    "import string\n",
    "from vaderSentiment.vaderSentiment import SentimentIntensityAnalyzer"
   ]
  },
  {
   "cell_type": "code",
   "execution_count": 43,
   "metadata": {},
   "outputs": [
    {
     "name": "stderr",
     "output_type": "stream",
     "text": [
      "[nltk_data] Downloading package stopwords to\n",
      "[nltk_data]     C:\\Users\\Nico\\AppData\\Roaming\\nltk_data...\n",
      "[nltk_data]   Package stopwords is already up-to-date!\n",
      "[nltk_data] Downloading package punkt to\n",
      "[nltk_data]     C:\\Users\\Nico\\AppData\\Roaming\\nltk_data...\n",
      "[nltk_data]   Package punkt is already up-to-date!\n"
     ]
    }
   ],
   "source": [
    "nltk.download('stopwords')\n",
    "nltk.download('punkt')\n",
    "\n",
    "ps = PorterStemmer()\n",
    "analyzer = SentimentIntensityAnalyzer()"
   ]
  },
  {
   "cell_type": "code",
   "execution_count": 44,
   "metadata": {},
   "outputs": [],
   "source": [
    "def txt_transform(text):\n",
    "    text = text.lower()\n",
    "    \n",
    "    text = nltk.word_tokenize(text)\n",
    "    \n",
    "    # Removing special characters, stop words, and punctuations\n",
    "    cleaned = []\n",
    "    for i in text:\n",
    "        if i.isalnum() and i not in stopwords.words('english') and i not in string.punctuation:\n",
    "            cleaned.append(i)\n",
    "    \n",
    "    stemmed=[]\n",
    "    for i in cleaned:\n",
    "        stemmed.append(ps.stem(i))\n",
    "    \n",
    "    # Sentiment Analysis then return\n",
    "    return analyzer.polarity_scores(\" \".join(stemmed))"
   ]
  },
  {
   "cell_type": "code",
   "execution_count": 45,
   "metadata": {},
   "outputs": [
    {
     "data": {
      "text/html": [
       "<div>\n",
       "<style scoped>\n",
       "    .dataframe tbody tr th:only-of-type {\n",
       "        vertical-align: middle;\n",
       "    }\n",
       "\n",
       "    .dataframe tbody tr th {\n",
       "        vertical-align: top;\n",
       "    }\n",
       "\n",
       "    .dataframe thead th {\n",
       "        text-align: right;\n",
       "    }\n",
       "</style>\n",
       "<table border=\"1\" class=\"dataframe\">\n",
       "  <thead>\n",
       "    <tr style=\"text-align: right;\">\n",
       "      <th></th>\n",
       "      <th>text</th>\n",
       "      <th>label</th>\n",
       "      <th>transformed</th>\n",
       "      <th>compound</th>\n",
       "      <th>pos</th>\n",
       "      <th>neu</th>\n",
       "      <th>neg</th>\n",
       "    </tr>\n",
       "  </thead>\n",
       "  <tbody>\n",
       "    <tr>\n",
       "      <th>0</th>\n",
       "      <td>Envy to other is swallowing me Im from develop...</td>\n",
       "      <td>1</td>\n",
       "      <td>{'neg': 0.166, 'neu': 0.64, 'pos': 0.193, 'com...</td>\n",
       "      <td>0.4741</td>\n",
       "      <td>0.193</td>\n",
       "      <td>0.640</td>\n",
       "      <td>0.166</td>\n",
       "    </tr>\n",
       "    <tr>\n",
       "      <th>1</th>\n",
       "      <td>Nothin outta the ordinary. Paradise. Job stres...</td>\n",
       "      <td>1</td>\n",
       "      <td>{'neg': 0.162, 'neu': 0.656, 'pos': 0.182, 'co...</td>\n",
       "      <td>0.8717</td>\n",
       "      <td>0.182</td>\n",
       "      <td>0.656</td>\n",
       "      <td>0.162</td>\n",
       "    </tr>\n",
       "    <tr>\n",
       "      <th>2</th>\n",
       "      <td>Almost 49 and the chasm of emptiness has never...</td>\n",
       "      <td>1</td>\n",
       "      <td>{'neg': 0.214, 'neu': 0.702, 'pos': 0.084, 'co...</td>\n",
       "      <td>-0.8279</td>\n",
       "      <td>0.084</td>\n",
       "      <td>0.702</td>\n",
       "      <td>0.214</td>\n",
       "    </tr>\n",
       "    <tr>\n",
       "      <th>3</th>\n",
       "      <td>I’m happy again After my closest friend left m...</td>\n",
       "      <td>0</td>\n",
       "      <td>{'neg': 0.0, 'neu': 0.789, 'pos': 0.211, 'comp...</td>\n",
       "      <td>0.4939</td>\n",
       "      <td>0.211</td>\n",
       "      <td>0.789</td>\n",
       "      <td>0.000</td>\n",
       "    </tr>\n",
       "    <tr>\n",
       "      <th>4</th>\n",
       "      <td>Is it possible to recover from such a traumati...</td>\n",
       "      <td>1</td>\n",
       "      <td>{'neg': 0.254, 'neu': 0.59, 'pos': 0.156, 'com...</td>\n",
       "      <td>-0.9671</td>\n",
       "      <td>0.156</td>\n",
       "      <td>0.590</td>\n",
       "      <td>0.254</td>\n",
       "    </tr>\n",
       "  </tbody>\n",
       "</table>\n",
       "</div>"
      ],
      "text/plain": [
       "                                                text  label  \\\n",
       "0  Envy to other is swallowing me Im from develop...      1   \n",
       "1  Nothin outta the ordinary. Paradise. Job stres...      1   \n",
       "2  Almost 49 and the chasm of emptiness has never...      1   \n",
       "3  I’m happy again After my closest friend left m...      0   \n",
       "4  Is it possible to recover from such a traumati...      1   \n",
       "\n",
       "                                         transformed  compound    pos    neu  \\\n",
       "0  {'neg': 0.166, 'neu': 0.64, 'pos': 0.193, 'com...    0.4741  0.193  0.640   \n",
       "1  {'neg': 0.162, 'neu': 0.656, 'pos': 0.182, 'co...    0.8717  0.182  0.656   \n",
       "2  {'neg': 0.214, 'neu': 0.702, 'pos': 0.084, 'co...   -0.8279  0.084  0.702   \n",
       "3  {'neg': 0.0, 'neu': 0.789, 'pos': 0.211, 'comp...    0.4939  0.211  0.789   \n",
       "4  {'neg': 0.254, 'neu': 0.59, 'pos': 0.156, 'com...   -0.9671  0.156  0.590   \n",
       "\n",
       "     neg  \n",
       "0  0.166  \n",
       "1  0.162  \n",
       "2  0.214  \n",
       "3  0.000  \n",
       "4  0.254  "
      ]
     },
     "execution_count": 45,
     "metadata": {},
     "output_type": "execute_result"
    }
   ],
   "source": [
    "df['transformed'] = df['text'].apply(txt_transform)\n",
    "\n",
    "df['compound'] = df['transformed'].apply(lambda x: x['compound'])\n",
    "df['pos'] = df['transformed'].apply(lambda x: x['pos'])\n",
    "df['neu'] = df['transformed'].apply(lambda x: x['neu'])\n",
    "df['neg'] = df['transformed'].apply(lambda x: x['neg'])\n",
    "df.head()"
   ]
  },
  {
   "cell_type": "markdown",
   "metadata": {},
   "source": [
    "# Model Creation"
   ]
  },
  {
   "cell_type": "code",
   "execution_count": 46,
   "metadata": {},
   "outputs": [],
   "source": [
    "from sklearn.model_selection import train_test_split\n",
    "from sklearn.svm import SVC\n",
    "from sklearn import metrics\n",
    "\n",
    "model = SVC()"
   ]
  },
  {
   "cell_type": "code",
   "execution_count": 47,
   "metadata": {},
   "outputs": [],
   "source": [
    "xdata = df[['compound', 'pos', 'neu', 'neg']]\n",
    "ydata = df['label']\n",
    "\n",
    "xtrain, xtest, ytrain, ytest = train_test_split(xdata, ydata, train_size=0.7)"
   ]
  },
  {
   "cell_type": "code",
   "execution_count": 48,
   "metadata": {},
   "outputs": [],
   "source": [
    "model.fit(xtrain, ytrain)\n",
    "pred = model.predict(xtest)"
   ]
  },
  {
   "cell_type": "code",
   "execution_count": 49,
   "metadata": {},
   "outputs": [
    {
     "name": "stdout",
     "output_type": "stream",
     "text": [
      "              precision    recall  f1-score   support\n",
      "\n",
      "           0       0.63      0.34      0.44       339\n",
      "           1       0.83      0.94      0.89      1190\n",
      "\n",
      "    accuracy                           0.81      1529\n",
      "   macro avg       0.73      0.64      0.67      1529\n",
      "weighted avg       0.79      0.81      0.79      1529\n",
      "\n"
     ]
    }
   ],
   "source": [
    "print(metrics.classification_report(ytest, pred))"
   ]
  },
  {
   "cell_type": "code",
   "execution_count": 50,
   "metadata": {},
   "outputs": [
    {
     "data": {
      "text/plain": [
       "<sklearn.metrics._plot.confusion_matrix.ConfusionMatrixDisplay at 0x29237ccf4d0>"
      ]
     },
     "execution_count": 50,
     "metadata": {},
     "output_type": "execute_result"
    },
    {
     "data": {
      "image/png": "[encoded data removed]",
      "text/plain": [
       "<Figure size 640x480 with 2 Axes>"
      ]
     },
     "metadata": {},
     "output_type": "display_data"
    }
   ],
   "source": [
    "cm = metrics.confusion_matrix(ytest, pred)\n",
    "fig = metrics.ConfusionMatrixDisplay(cm)\n",
    "fig.plot()"
   ]
  }
 ],
 "metadata": {
  "kernelspec": {
   "display_name": "default",
   "language": "python",
   "name": "python3"
  },
  "language_info": {
   "codemirror_mode": {
    "name": "ipython",
    "version": 3
   },
   "file_extension": ".py",
   "mimetype": "text/x-python",
   "name": "python",
   "nbconvert_exporter": "python",
   "pygments_lexer": "ipython3",
   "version": "3.12.2"
  }
 },
 "nbformat": 4,
 "nbformat_minor": 2
}
